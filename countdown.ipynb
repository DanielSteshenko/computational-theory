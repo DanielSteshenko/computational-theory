{
 "cells": [
  {
   "cell_type": "markdown",
   "metadata": {},
   "source": [
    "# Countdown Numbers Game"
   ]
  },
  {
   "cell_type": "markdown",
   "metadata": {},
   "source": [
    "### G00380007\n",
    "---"
   ]
  },
  {
   "cell_type": "markdown",
   "metadata": {},
   "source": [
    "## What is the Countdown Numbers game?"
   ]
  },
  {
   "cell_type": "markdown",
   "metadata": {},
   "source": [
    "The countdown numbers game challenges contestants with six random numbers, including duplicates of integers from 1 to 10 and singular instances of 25, 50, 75 and 100. A target number ranging between 101 to 999, must be reached using basic arithmetic operations within a 30-second time frame. Each number must be used once. The use of fractions or negative numbers is prohibited. The contestant who reaches the number or the contestant closest to the target number wins the game.   "
   ]
  },
  {
   "cell_type": "markdown",
   "metadata": {},
   "source": [
    "### Analysis of the Countdown Numbers game."
   ]
  },
  {
   "cell_type": "markdown",
   "metadata": {},
   "source": [
    "Contestants are given 6 numbers and must use any of the 4 operations, addition, subtraction, multiplication and division. "
   ]
  },
  {
   "cell_type": "markdown",
   "metadata": {},
   "source": [
    "#### Example Game"
   ]
  },
  {
   "cell_type": "markdown",
   "metadata": {},
   "source": [
    "The target number is: ``556``\n",
    "\n",
    "The following 6 numbers are given to the contestants: ``50, 8, 3, 7, 2, 10``\n",
    "\n",
    "How contestants can reach the target number with the 6 numbers:\n",
    "\n",
    "```\n",
    "50 x 10 = 500 \n",
    "8 x 7   = 56\n",
    "\n",
    "500 + 56 = 556 // Target Number\n",
    "```"
   ]
  },
  {
   "cell_type": "markdown",
   "metadata": {},
   "source": [
    "## References"
   ]
  },
  {
   "cell_type": "markdown",
   "metadata": {},
   "source": [
    "- [Countdown Game Show]((http://datagenetics.com/blog/august32014/index.htm)"
   ]
  }
 ],
 "metadata": {
  "kernelspec": {
   "display_name": "Python 3 (ipykernel)",
   "language": "python",
   "name": "python3"
  },
  "language_info": {
   "codemirror_mode": {
    "name": "ipython",
    "version": 3
   },
   "file_extension": ".py",
   "mimetype": "text/x-python",
   "name": "python",
   "nbconvert_exporter": "python",
   "pygments_lexer": "ipython3",
   "version": "3.10.13"
  }
 },
 "nbformat": 4,
 "nbformat_minor": 4
}

{
 "cells": [
  {
   "cell_type": "markdown",
   "metadata": {},
   "source": [
    "# Countdown Numbers Game"
   ]
  },
  {
   "cell_type": "markdown",
   "metadata": {},
   "source": [
    "### G00380007\n",
    "---"
   ]
  },
  {
   "cell_type": "markdown",
   "metadata": {},
   "source": [
    "## Introduction"
   ]
  },
  {
   "cell_type": "markdown",
   "metadata": {},
   "source": [
    "The Countdown Numbers Game is a compelling segment of the popular British television show \"Countdown\". In it, contestants use arithmetic to reach a randomly generated target number using a set of six given numbers. The segment offers a fascinating challenge that combines elements of number theory and operational strategy. [1]\n",
    "\n",
    "The game's rules are straightforward yet intricate. Contestants are provided with six numbers chosen from a predefined list, which includes small numbers (two sets of each integer from 1 to 10) and large numbers (25, 50, 75, and 100). These numbers are used to achieve a randomly selected target number, ranging between 101 and 999. Participants must use any combination of addition, subtraction, multiplication, and division to reach this number, adhering to two primary constraints: each of the six numbers can be used only once, and the operations must result in whole numbers. [1]\n",
    "\n",
    "The game may appear simple, but it is actually quite complex. Players must not only perform rapid calculations but also develop strategies to approximate or exactly reach the target number within a 30-second time frame. This makes the game a test of mathematical skill, quick thinking, and strategic planning. [1]\n",
    "\n",
    "The following sections will delve deeper into the analysis of the game's complexity, the algorithmic approach to solving the game, and the practical implementation of these strategies in a Python function designed to automate solutions. Through this exploration, I aim to provide a comprehensive understanding of the Countdown Numbers Game and its broader implications in computational problem-solving."
   ]
  },
  {
   "cell_type": "markdown",
   "metadata": {},
   "source": [
    "## Analysis of the Countdown Numbers Game"
   ]
  },
  {
   "cell_type": "markdown",
   "metadata": {},
   "source": [
    "### Explanation of Computational Complexity\n",
    "\n",
    "The Countdown Numbers Game presents a non-trivial example of computational complexity, primarily due to the vast number of combinations and operations that can be performed with the six chosen numbers. The task can be categorised as a constraint satisfaction problem, where the constraints are the operations (addition, subtraction, multiplication, division) and the requirement that these operations result in whole numbers.\n",
    "\n",
    "Complexity arises from the factorial growth of possible combinations of numbers and operations. For example, with six numbers, there are six ways to order them, and for each arrangement, the number of operational combinations between pairs of numbers grows exponentially. This factorial growth implies that a brute-force approach, where every possible combination and operation is tested, becomes computationally expensive and impractical as the input size grows, classifying this problem within NP-hard problems in computational complexity theory. [3]\n",
    "\n",
    "\n"
   ]
  },
  {
   "cell_type": "markdown",
   "metadata": {},
   "source": [
    "### Approach to Solving the Countdown Numbers Game\n",
    "\n",
    "Solving the Countdown Numbers Game effectively requires understanding various strategic algorithms that can efficiently explore the vast search space. The following approaches each offer unique advantages depending on the situation:\n",
    "\n",
    "1. **Dynamic Programming:** By breaking down the problem into smaller subproblems, dynamic programming can be used to build up solutions to the more significant problem. [4]\n",
    "   - **Process:**\n",
    "        - Create a table.\n",
    "        - Fill the initial values in the table, such as solving for single numbers alone.\n",
    "        - For each subset of numbers, compute all possible results using basic arithmetic operations and store them in the table.\n",
    "        Look in the table to see if the target number can be reached with any combination of numbers and operations.\n",
    "        - If the target is met, backtrack through the table to reconstruct the sequence of operations used.\n",
    "    - **Advantage:** Ensures a thorough search and can often guarantee the optimal solution when fully implemented.\n",
    "    - **Disadvantage**: This can be slow and memory-intensive, significantly as the number of numbers and target values increases.\n",
    "    \n",
    "2. **Heuristic Algorithms:** Heuristics, such as genetic algorithms or simulated annealing, can search the solution space more randomly but effectively. They often find reasonable solutions quickly, even if they cannot always guarantee finding the best solution. [5]\n",
    "    - **Process:**\n",
    "        - Start with one or more random combinations of numbers and operations as the initial solution set.\n",
    "        - Create a function to evaluate how close a solution is to the target number.\n",
    "        - For genetic algorithms: Select the best solutions, cross them over to create new solutions, and mutate some randomly.\n",
    "        - For simulated annealing, randomly tweak a solution and decide whether to keep it based on its score and a probability that decreases over time.\n",
    "        - Continue iterating and improving the solutions until a satisfactory solution is found or a maximum number of iterations is reached.\n",
    "        - Choose the solution closest to the target number out of all iterations.\n",
    "    - **Advantage:** Capable of quickly finding reasonable solutions in vast search spaces without needing to evaluate every possibility.\n",
    "    - **Disadvantage:** Might not find the best possible solution. The final result can depend significantly on initial conditions or parameters.\n",
    "\n",
    "\n",
    "3. **Brute Force Approach:** This method involves trying every possible combination of numbers and operations to reach the target number. It's straightforward but computationally expensive, making it feasible only for smaller datasets. [6]\n",
    "    - **Process:**\n",
    "       - Enumerate all possible ways to use the six numbers with arithmetic operations.\n",
    "       - Calculate the result of each combination.\n",
    "       - Check each result against the target number to find an exact match or the closest possible solution.\n",
    "       - Return the combination that meets the target or comes closest within an acceptable margin.\n",
    "    - **Advantage:** Guaranteed to find a solution if it exists within the given dataset.\n",
    "    - **Disadvantage:** Scalability issues make it impractical for larger datasets.\n",
    "        \n",
    "4. **Enhancing Efficiency with Reverse Polish Notation (RPN):** Reverse Polish Notation (RPN) can boost computational efficiency, particularly when evaluating complex arithmetic expressions during heuristic searches. Using postfix notation, RPN eliminates the need for parentheses, where operators follow their operands. This aligns with computers' natural processing methods, thus reducing the computational load. [7]\n",
    "    - **Advantage:** It reduces the complexity of parsing expressions, thus speeding up computation.\n",
    "    - **Disadvantage:** Debugging and error checking can be challenging due to the absence of conventional operators between operands. It can be difficult to trace and verify each step of the computation process, especially when errors occur.\n",
    "\n",
    "Different approaches to solving the Countdown Numbers Game have unique advantages and can be chosen based on factors such as solution speed, accuracy, and available computational resources. In practice, it may be beneficial to use a combination of methods.\n",
    "\n",
    "Moreover, incorporating Reverse Polish Notation (RPN) into the computational framework can greatly improve the efficiency and speed of solution evaluations. This is especially advantageous in dynamic programming and heuristic-based algorithms since simplifying complex expressions is important. RPN expedites computation by eliminating the need for parentheses, which reduces the computational overhead associated with parsing and evaluating expressions. This integration not only streamlines the computation process but also minimises the potential for errors during the evaluation phase, leading to more robust and dependable solutions.\n"
   ]
  },
  {
   "cell_type": "markdown",
   "metadata": {},
   "source": [
    "### Example Game"
   ]
  },
  {
   "cell_type": "markdown",
   "metadata": {},
   "source": [
    "To demonstrate the application of solving strategies for the Countdown Numbers Game, consider these two example scenarios:\n",
    "\n",
    "**Simple Game Example**\n",
    "- **Target Number:** `820`\n",
    "- **Available Numbers:** `75, 2, 6, 7, 7, 10`\n",
    "\n",
    "**Solution Process:**\n",
    "\n",
    "1. **Step 1:** Combine 75 and 7.\n",
    "   - Calculation: 75 + 7 = 82\n",
    "2. **Step 2:** Multiply the result by 10 to reach the target.\n",
    "   - Calculation: 82 x 10 = 820 // Target number reached\n",
    "\n",
    "This example showcases a straightforward application of arithmetic operations to reach the target number efficiently.\n",
    "\n",
    "**Complex Game Example**\n",
    "- **Target Number:** `591`\n",
    "- **Available Numbers:** `1, 6, 9, 6, 2, 75`\n",
    "\n",
    "**Solution Process**\n",
    "\n",
    "1. **Step 1:** Divide 6 by 2.\n",
    "   - Calculation: 6 / 2 = 3\n",
    "2. **Step 2:** Add the result to another 6.\n",
    "   - Calculation: 6 + 3 = 9\n",
    "3. **Step 3:** Subtract 1 from the result.\n",
    "   - Calculation: 9 - 1 = 8\n",
    "4. **Step 4:** Multiply the result by 75.\n",
    "   - Calculation: 8 x 75 = 600\n",
    "5. **Step 5:** Subtract 9 to achieve the target number.\n",
    "   - Calculation: 600 - 9 = 591 // Target number reached\n",
    "\n",
    "This more complex scenario illustrates the use of multiple operations in sequence to solve for the target number, highlighting the challenge of choosing the right operations and sequence to reach the solution.\n"
   ]
  },
  {
   "cell_type": "markdown",
   "metadata": {},
   "source": [
    "## Start of Implementation "
   ]
  },
  {
   "cell_type": "code",
   "execution_count": 2,
   "metadata": {},
   "outputs": [],
   "source": [
    "import random "
   ]
  },
  {
   "cell_type": "code",
   "execution_count": 3,
   "metadata": {},
   "outputs": [],
   "source": [
    "def generate_numbers():\n",
    "    small_numbers = [random.randint(1, 10) for _ in range(4)]  \n",
    "    special_numbers = [25, 50, 75, 100]\n",
    "    large_numbers = random.sample(special_numbers, 2) \n",
    "    return small_numbers + large_numbers  "
   ]
  },
  {
   "cell_type": "code",
   "execution_count": 4,
   "metadata": {},
   "outputs": [],
   "source": [
    "def generate_target():\n",
    "    return random.randint(101, 999)"
   ]
  },
  {
   "cell_type": "markdown",
   "metadata": {},
   "source": [
    "## Implementation (Brute Force Approach)\n"
   ]
  },
  {
   "cell_type": "code",
   "execution_count": 5,
   "metadata": {},
   "outputs": [],
   "source": [
    "def solve_numbers(numbers, target):\n",
    "    # Base case: If there's only one number left and it's equal to the target, return it\n",
    "    if len(numbers) == 1 and numbers[0] == target:\n",
    "        return [str(numbers[0])]\n",
    "    # If there's one number left but it doesn't match the target, return None (no solution)\n",
    "    elif len(numbers) == 1:\n",
    "        return None\n",
    "\n",
    "    # Iterate through each pair of numbers in the list\n",
    "    for i in range(len(numbers)):\n",
    "        for j in range(i+1, len(numbers)):\n",
    "            a = numbers[i]\n",
    "            b = numbers[j]\n",
    "            # Create a new list of numbers excluding the current pair (i, j)\n",
    "            remaining_numbers = [numbers[k] for k in range(len(numbers)) if k != i and k != j]\n",
    "\n",
    "            # Try adding the pair and solve recursively\n",
    "            result = solve_numbers(remaining_numbers + [a + b], target)\n",
    "            if result is not None:\n",
    "                # If a solution is found, prepend the operation that led to this solution\n",
    "                return [f\"{a} + {b} = {a + b}\"] + result\n",
    "\n",
    "            # Try subtracting the pair and solve recursively, only if a > b to avoid negative results\n",
    "            if a > b:\n",
    "                result = solve_numbers(remaining_numbers + [a - b], target)\n",
    "                if result is not None:\n",
    "                    return [f\"{a} - {b} = {a - b}\"] + result\n",
    "            \n",
    "            # Try multiplying the pair and solve recursively\n",
    "            result = solve_numbers(remaining_numbers + [a * b], target)\n",
    "            if result is not None:\n",
    "                return [f\"{a} * {b} = {a * b}\"] + result\n",
    "\n",
    "            # Try dividing the pair and solve recursively, only if b is not zero and a is divisible by b\n",
    "            if b != 0 and a % b == 0:\n",
    "                result = solve_numbers(remaining_numbers + [a // b], target)\n",
    "                if result is not None:\n",
    "                    return [f\"{a} // {b} = {a // b}\"] + result\n",
    "\n",
    "    # If no solution is found after trying all pairs and operations, return None\n",
    "    return None"
   ]
  },
  {
   "cell_type": "code",
   "execution_count": 6,
   "metadata": {},
   "outputs": [
    {
     "name": "stdout",
     "output_type": "stream",
     "text": [
      "Numbers: [1, 10, 1, 10, 25, 75]\n",
      "Target: 882\n",
      "No solution found.\n"
     ]
    }
   ],
   "source": [
    "numbers = generate_numbers()\n",
    "target = generate_target()\n",
    "print(\"Numbers:\", numbers)\n",
    "print(\"Target:\", target)\n",
    "\n",
    "solution = solve_numbers(numbers, target)\n",
    "if solution:\n",
    "    print(\"Solution:\", solution)\n",
    "else:\n",
    "    print(\"No solution found.\")"
   ]
  },
  {
   "cell_type": "markdown",
   "metadata": {},
   "source": [
    "### Description of the `solve_numbers` Function"
   ]
  },
  {
   "cell_type": "markdown",
   "metadata": {},
   "source": [
    "The `solve_numbers` function is designed to find a solution for reaching a target number using a given set of numbers through a series of arithmetic operations. The function implements a brute force approach, repeatedly exploring all possible combinations of numbers and operations until a solution is found or all possibilities are exhausted.\n",
    "\n",
    "**Function Operation:**\n",
    "1. **Checks:**\n",
    "   - If only one number remains and it matches the target, the function returns this number as the solution.\n",
    "   - If one number remains but does not match the target, the function returns None, indicating no solution was found with that path.\n",
    "2. **Recursive Exploration:**\n",
    "   - The function iterates over all pairs of numbers in the current list.\n",
    "   - For each pair, it considers the possible results from applying each arithmetic operation: addition, subtraction (if the first number is larger to avoid negative results), multiplication, and division (if the second number is not zero and divides the first number evenly).\n",
    "   - For each result, the function recursively calls itself with the new list of numbers, where their operational result replaces the pair of numbers used.\n",
    "3. **Solution:**\n",
    "   - If a recursive call returns a solution, the function prepends the current operation to the list of operations leading to that solution, gradually building a complete solution path as the recursion unwinds.\n",
    "   -  The function returns `None` if the recursion through all operations and pairs does not find a solution.\n",
    "4. **Return Value:**\n",
    "   - The function ultimately returns a list of strings, each describing a step in the sequence of operations that leads to the target number, or `None` if no such sequence exists.\n"
   ]
  },
  {
   "cell_type": "markdown",
   "metadata": {},
   "source": [
    "## Implementation (Dynamic Programming)"
   ]
  },
  {
   "cell_type": "code",
   "execution_count": 7,
   "metadata": {},
   "outputs": [],
   "source": [
    "def solve_numbers_dp(numbers, target, memo={}):\n",
    "    # Create a unique key for the current state based on the sorted numbers and the target\n",
    "    key = tuple(sorted(numbers)), target\n",
    "    # Check if this state has been solved before and return the stored result if so\n",
    "    if key in memo:\n",
    "        return memo[key]\n",
    "\n",
    "    # Base case: if only one number remains and it matches the target\n",
    "    if len(numbers) == 1:\n",
    "        if numbers[0] == target:\n",
    "            return [str(numbers[0])]  # Return the number as a successful result\n",
    "        else:\n",
    "            return None  # No solution possible with the single remaining number\n",
    "\n",
    "    # Iterate through all pairs of numbers to perform arithmetic operations\n",
    "    for i in range(len(numbers)):\n",
    "        for j in range(i + 1, len(numbers)):\n",
    "            num1, num2 = numbers[i], numbers[j]\n",
    "            # List remaining numbers excluding the current pair (i, j)\n",
    "            remaining = numbers[:i] + numbers[i+1:j] + numbers[j+1:]\n",
    "            \n",
    "            # List to store operations and their results\n",
    "            operations = []\n",
    "            # Try adding the numbers\n",
    "            operations.append((num1 + num2, f\"{num1} + {num2}\"))\n",
    "            # Try subtracting if num1 is greater than num2 to avoid negative results\n",
    "            if num1 > num2:\n",
    "                operations.append((num1 - num2, f\"{num1} - {num2}\"))\n",
    "            # Try multiplying the numbers\n",
    "            operations.append((num1 * num2, f\"{num1} * {num2}\"))\n",
    "            # Try division but only if the division is exact\n",
    "            if num2 != 0 and num1 % num2 == 0:\n",
    "                operations.append((num1 // num2, f\"{num1} // {num2}\"))\n",
    "\n",
    "            # Evaluate each operation and recursively solve with the result\n",
    "            for result, expr in operations:\n",
    "                subproblem = solve_numbers_dp(remaining + [result], target, memo)\n",
    "                if subproblem is not None:\n",
    "                    # If a solution is found, prepend the current operation and store in memo\n",
    "                    solution = [expr + f\" = {result}\"] + subproblem\n",
    "                    memo[key] = solution\n",
    "                    return solution\n",
    "\n",
    "    # After all operations, if no solution is found, mark this state as unsolvable in the memo\n",
    "    memo[key] = None\n",
    "    return None"
   ]
  },
  {
   "cell_type": "code",
   "execution_count": 8,
   "metadata": {},
   "outputs": [
    {
     "name": "stdout",
     "output_type": "stream",
     "text": [
      "Numbers: [5, 4, 8, 1, 50, 100]\n",
      "Target: 785\n",
      "Solution found:\n",
      "5 + 50 = 55\n",
      "4 * 100 = 400\n",
      "8 - 1 = 7\n",
      "55 * 7 = 385\n",
      "400 + 385 = 785\n",
      "785\n"
     ]
    }
   ],
   "source": [
    "numbers = generate_numbers()\n",
    "target = generate_target()\n",
    "print(\"Numbers:\", numbers)\n",
    "print(\"Target:\", target)\n",
    "\n",
    "solution = solve_numbers_dp(numbers, target)\n",
    "if solution:\n",
    "    print(\"Solution found:\")\n",
    "    for step in solution:\n",
    "        print(step)\n",
    "else:\n",
    "    print(\"No solution found.\")"
   ]
  },
  {
   "cell_type": "markdown",
   "metadata": {},
   "source": [
    "### Description of the `solve_numbers_dp` Function"
   ]
  },
  {
   "cell_type": "markdown",
   "metadata": {},
   "source": [
    "The `solve_numbers_dp` function is designed to find a solution for reaching a target number using a given set of numbers through a series of arithmetic operations. This function employs a dynamic programming approach, optimising the search by breaking the problem into smaller, manageable subproblems, solving each recursively, and storing their results to avoid redundant computations.\n",
    "\n",
    "**Function Operation:**\n",
    "1. **Memoisation:**\n",
    "    - Utilises a memoisation dictionary to store the results of subproblems based on a combination of numbers and the target. This prevents the need for redundant calculations, significantly enhancing computational efficiency.\n",
    "2. **Recursive Strategy:**\n",
    "    - The function explores all combinations of pairs of numbers, applying arithmetic operations.\n",
    "    - Each operation result recursively calls itself a new set of numbers, including the operation's outcome and the other unused numbers.\n",
    "3. **Solution:**\n",
    "    - If the recursive call identifies a sequence that achieves the target, the function constructs a complete solution path by compiling the operations that led to this result.\n",
    "    - This solution is then stored in the memoisation dictionary for quick retrieval if the same problem configuration reoccurs.\n",
    "4. **Return Value:**\n",
    "    - Returns a sequence of operations that achieves the target if such a sequence exists; otherwise, it returns `None`.\n",
    "\n",
    "\n",
    "**Efficiency and Scalability:**\n",
    "\n",
    "The dynamic programming method significantly reduces the complexity and execution time compared to more naive approaches by cleverly using past computed results. This approach is particularly effective for problems with large datasets or complex target values, making it well-suited for the Countdown Numbers Game.\n"
   ]
  },
  {
   "cell_type": "markdown",
   "metadata": {},
   "source": [
    "## Implementation (Heuristic Algorithm Using RPN)"
   ]
  },
  {
   "cell_type": "code",
   "execution_count": 9,
   "metadata": {},
   "outputs": [],
   "source": [
    "import math\n",
    "\n",
    "operations = ['+', '-', '*', '/']  # List of arithmetic operations used in RPN expressions\n",
    "\n",
    "def generate_rpn_expression(numbers):\n",
    "    \"\"\" Generate a random Reverse Polish Notation (RPN) expression from a list of numbers. \"\"\"\n",
    "    expr = numbers[:]  # Copy the list of numbers\n",
    "    random.shuffle(expr)  # Randomize the order of numbers\n",
    "    ops_count = len(numbers) - 1  # Determine the number of operations needed\n",
    "    for _ in range(ops_count):\n",
    "        expr.append(random.choice(operations))  # Append a random operation to the expression\n",
    "    return expr\n",
    "\n",
    "def evaluate_rpn(expr):\n",
    "    \"\"\" Evaluate an RPN expression and return the result or None if division by zero occurs. \"\"\"\n",
    "    stack = []\n",
    "    for token in expr:\n",
    "        if token in operations:  # Check if the token is an operation\n",
    "            b = stack.pop()  # Pop the top two numbers for the operation\n",
    "            a = stack.pop()\n",
    "            if token == '+':\n",
    "                result = a + b\n",
    "            elif token == '-':\n",
    "                result = a - b\n",
    "            elif token == '*':\n",
    "                result = a * b\n",
    "            elif token == '/':\n",
    "                if b == 0:\n",
    "                    return None  # Avoid division by zero\n",
    "                result = a // b  # Use floor division to ensure integer results\n",
    "            stack.append(result)  # Push the result back onto the stack\n",
    "        else:\n",
    "            stack.append(token)  # Push the number onto the stack\n",
    "    return stack[0] if stack else None  # Return the final result in the stack\n",
    "\n",
    "def solve_numbers_ha_rpn(numbers, target, iterations=10000, start_temp=1000, end_temp=10):\n",
    "    current_expr = generate_rpn_expression(numbers)\n",
    "    current_result = evaluate_rpn(current_expr)\n",
    "\n",
    "    if current_result is None:  # Check if the initial expression resulted in division by zero\n",
    "        current_result = float('inf')  # Use infinity to ensure it won't be considered a valid result\n",
    "\n",
    "    current_temp = start_temp\n",
    "    temp_decrease = (start_temp - end_temp) / iterations\n",
    "\n",
    "    for _ in range(iterations):\n",
    "        if current_result == target:\n",
    "            return current_expr\n",
    "\n",
    "        new_expr = generate_rpn_expression(numbers)\n",
    "        new_result = evaluate_rpn(new_expr)\n",
    "\n",
    "        if new_result is None:\n",
    "            new_result = float('inf')\n",
    "\n",
    "        error = abs(target - new_result) - abs(target - current_result)\n",
    "        if error < 0 or random.random() < math.exp(-error / current_temp):\n",
    "            current_expr = new_expr\n",
    "            current_result = new_result\n",
    "\n",
    "        current_temp -= temp_decrease\n",
    "\n",
    "    return current_expr  # Return the best expression found"
   ]
  },
  {
   "cell_type": "code",
   "execution_count": 10,
   "metadata": {},
   "outputs": [
    {
     "name": "stdout",
     "output_type": "stream",
     "text": [
      "Numbers: [3, 1, 7, 10, 75, 50]\n",
      "Target: 245\n",
      "Solution expression: [7, 75, 50, 10, 1, 3, '/', '+', '-', '-', '*']\n",
      "Evaluated result: 245\n"
     ]
    }
   ],
   "source": [
    "numbers = generate_numbers()\n",
    "target = generate_target()\n",
    "print(\"Numbers:\", numbers)\n",
    "print(\"Target:\", target)\n",
    "\n",
    "solution = solve_numbers_ha_rpn(numbers, target)\n",
    "if solution and evaluate_rpn(solution) != float('inf'):\n",
    "    print(\"Solution expression:\", solution)\n",
    "    print(\"Evaluated result:\", evaluate_rpn(solution))\n",
    "else:\n",
    "    print(\"No solution found.\")"
   ]
  },
  {
   "cell_type": "markdown",
   "metadata": {},
   "source": [
    "### Description of the `solve_numbers_ha_rpn` Function"
   ]
  },
  {
   "cell_type": "markdown",
   "metadata": {},
   "source": [
    "The `solve_numbers_ha_rpn` function is designed to find a solution to the Countdown Numbers Game using a given set of numbers and a target. This function employs a heuristic approach through simulated annealing, optimising random solutions over time.\n",
    "\n",
    "**Function Operation:**\n",
    "\n",
    "1. **Generate Initial Solution:**\n",
    "    - A random RPN expression is generated using the provided numbers.\n",
    "2. **Evaluate and Optimise:**\n",
    "    - The function iteratively generates new RPN expressions (neighbours) and evaluates them.\n",
    "    - Solutions are optimised through simulated annealing: the algorithm decides whether to accept a new solution based on its fitness relative to the current solution and a decreasing \"temperature\" parameter that reduces the likelihood of accepting worse solutions over time.\n",
    "3. **Solution:**\n",
    "    - If an expression exactly meets the target, the function immediately returns this optimal solution.\n",
    "    - Otherwise, the algorithm continues to explore new solutions, gradually decreasing the temperature and refining the approach to optimisation.\n",
    "4. **Return Value:**\n",
    "    - Ultimately, the function returns the best RPN expression found, along with its evaluated result, or indicates if no satisfactory solution is found within the set iterations.\n"
   ]
  },
  {
   "cell_type": "markdown",
   "metadata": {},
   "source": [
    "## Limitations of Computational Approaches"
   ]
  },
  {
   "cell_type": "markdown",
   "metadata": {},
   "source": [
    "This section discusses the limitations inherent to each of the computational approaches employed to solve the Countdown Numbers Game, brute force, dynamic programming, and heuristics algorithms using Reverse Polish Notation (RPN).\n",
    "\n",
    "**Brute Force Approach**\n",
    "- **Scalability Issues:** The brute force method suffers significantly from scalability problems. As the number of available numbers increases, the possible combinations of operations and numbers grow exponentially, rapidly increasing computational time and resource usage.\n",
    "- **Efficiency:** This approach is computationally expensive because it explores every possible combination without regard for optimality or shortcuts, making it impractical for larger datasets or real-time applications.\n",
    "\n",
    "**Dynamic Programming Approach**\n",
    "- **Memory Usage:** Dynamic programming requires substantial memory to store intermediate results, especially for large sets of numbers. This can lead to high memory consumption which may be inefficient or infeasible on memory-constrained platforms.\n",
    "- **Complexity of Implementation:** While it reduces the time complexity compared to brute force, dynamic programming can be complex to implement correctly, especially in managing and debugging the memoisation process across recursive calls.\n",
    "\n",
    "**Heuristics with RPN**\n",
    "- **Sub-Optimality:** Heuristic approaches do not guarantee that the optimal solution will be found. They aim for a \"good enough\" solution, which may not be ideal, especially in cases where precision is crucial.\n",
    "- **Dependence on Parameters:** The performance of heuristic methods like simulated annealing heavily depends on the correct tuning of parameters such as temperature, cooling rate, and the number of iterations. Misconfiguration can lead to poor results.\n",
    "- **Randomness:** Heuristic approaches' stochastic nature means that they can produce different results when run multiple times under the same conditions, potentially leading to inconsistent outcomes.\n"
   ]
  },
  {
   "cell_type": "markdown",
   "metadata": {},
   "source": [
    "## Performance Testing of Solution Approaches"
   ]
  },
  {
   "cell_type": "markdown",
   "metadata": {},
   "source": [
    "### Test Execution Speed"
   ]
  },
  {
   "cell_type": "markdown",
   "metadata": {},
   "source": [
    "1. **Heuristic Approach using RPN**"
   ]
  },
  {
   "cell_type": "code",
   "execution_count": 33,
   "metadata": {},
   "outputs": [
    {
     "name": "stdout",
     "output_type": "stream",
     "text": [
      "Testing Heuristic RPN Approach\n",
      "Numbers: [8, 4, 3, 2, 25, 100]\n",
      "Target: 331\n",
      "Solution expression: [25, 8, 2, 3, 4, 100, '+', '*', '+', '-', '-']\n",
      "Evaluated result: 331\n",
      "Time taken: 0.022233009338378906 seconds\n"
     ]
    }
   ],
   "source": [
    "import time\n",
    "\n",
    "numbers = generate_numbers()\n",
    "target = generate_target()\n",
    "print(\"Testing Heuristic RPN Approach\")\n",
    "print(\"Numbers:\", numbers)\n",
    "print(\"Target:\", target)\n",
    "    \n",
    "start_time = time.time()\n",
    "solution = solve_numbers_ha_rpn(numbers, target)\n",
    "elapsed_time = time.time() - start_time\n",
    "    \n",
    "result = evaluate_rpn(solution) if solution else None\n",
    "print(\"Solution expression:\", solution if result != float('inf') else \"No solution found.\")\n",
    "print(\"Evaluated result:\", result)\n",
    "print(\"Time taken:\", elapsed_time, \"seconds\")"
   ]
  },
  {
   "cell_type": "markdown",
   "metadata": {},
   "source": [
    "2. **Dynamic Programming Approach**"
   ]
  },
  {
   "cell_type": "code",
   "execution_count": 36,
   "metadata": {},
   "outputs": [
    {
     "name": "stdout",
     "output_type": "stream",
     "text": [
      "Testing Dynamic Programming Approach\n",
      "Numbers: [9, 8, 3, 3, 75, 100]\n",
      "Target: 480\n",
      "Solution found: ['9 * 3 = 27', '8 + 100 = 108', '27 + 108 = 135', '3 * 135 = 405', '75 + 405 = 480', '480']\n",
      "Time taken: 0.02427840232849121 seconds\n"
     ]
    }
   ],
   "source": [
    "numbers = generate_numbers()\n",
    "target = generate_target()\n",
    "print(\"Testing Dynamic Programming Approach\")\n",
    "print(\"Numbers:\", numbers)\n",
    "print(\"Target:\", target)\n",
    "    \n",
    "start_time = time.time()\n",
    "solution = solve_numbers_dp(numbers, target)\n",
    "elapsed_time = time.time() - start_time\n",
    "    \n",
    "print(\"Solution found:\", solution)\n",
    "print(\"Time taken:\", elapsed_time, \"seconds\")"
   ]
  },
  {
   "cell_type": "markdown",
   "metadata": {},
   "source": [
    "3. **Brute Force Approach**"
   ]
  },
  {
   "cell_type": "code",
   "execution_count": 13,
   "metadata": {},
   "outputs": [
    {
     "name": "stdout",
     "output_type": "stream",
     "text": [
      "Testing Brute Force Approach\n",
      "Numbers: [1, 3, 8, 10, 50, 100]\n",
      "Target: 823\n",
      "Solution: ['1 + 8 = 9', '10 * 100 = 1000', '50 + 9 = 59', '3 * 59 = 177', '1000 - 177 = 823', '823']\n",
      "Time taken: 0.01911616325378418 seconds\n"
     ]
    }
   ],
   "source": [
    "numbers = generate_numbers()\n",
    "target = generate_target()\n",
    "print(\"Testing Brute Force Approach\")\n",
    "print(\"Numbers:\", numbers)\n",
    "print(\"Target:\", target)\n",
    "    \n",
    "start_time = time.time()\n",
    "solution = solve_numbers(numbers, target)\n",
    "elapsed_time = time.time() - start_time\n",
    "    \n",
    "print(\"Solution:\", solution)\n",
    "print(\"Time taken:\", elapsed_time, \"seconds\")"
   ]
  },
  {
   "cell_type": "markdown",
   "metadata": {},
   "source": [
    "### Testing Results Analysis"
   ]
  },
  {
   "cell_type": "markdown",
   "metadata": {},
   "source": [
    "**Heuristic Approach using RPN (Reverse Polish Notation):**\n",
    "- Numbers Tested: [8, 4, 3, 2, 25, 100]\n",
    "- Target: 331\n",
    "- Solution Expression: [25, 8, 2, 3, 4, 100, '+', '*', '+', '-', '-']\n",
    "- Evaluated Result: 331\n",
    "- Time Taken: Approximately 0.022 seconds\n",
    "- Observation: The heuristic method successfully achieved the exact target with complex operations. The time taken was reasonable, demonstrating the method's potential for efficient computation and accurate solutions when well-tuned.\n",
    "\n",
    "**Dynamic Programming Approach:**\n",
    "- Numbers Tested: [9, 8, 3, 3, 75, 100]\n",
    "- Target: 480\n",
    "- Solution Found: ['9 * 3 = 27', '8 + 100 = 108', '27 + 108 = 135', '3 * 135 = 405', '75 + 405 = 480', '480']\n",
    "- Time Taken: Approximately 0.024 seconds\n",
    "- Observation: Dynamic programming provided an accurate and optimal solution, although taking slightly longer than the other methods. This method efficiently solves complex numeric targets, showcasing its capability for precise solutions with memoization to reduce redundant computations.\n",
    "\n",
    "**Brute Force Approach:**\n",
    "- Numbers Tested: [1, 3, 8, 10, 50, 100]\n",
    "- Target: 823\n",
    "- Solution Found: ['1 + 8 = 9', '10 * 100 = 1000', '50 + 9 = 59', '3 * 59 = 177', '1000 - 177 = 823', '823']\n",
    "- Time Taken: Approximately 0.019 seconds\n",
    "- Observation: Despite being a brute force method, this approach was the fastest in this instance and successfully found an exact solution. This method demonstrated exceptional efficiency and proved highly effective for the given problem set.\n"
   ]
  },
  {
   "cell_type": "markdown",
   "metadata": {},
   "source": [
    "### Analysis Thoughts"
   ]
  },
  {
   "cell_type": "markdown",
   "metadata": {},
   "source": [
    "The testing highlighted the strengths and capabilities of each computational strategy. The heuristic algorithms with the RPN approach showed a good balance between speed and accuracy. Dynamic programming excelled in accuracy and robustness for more complex calculations, while brute force emerged as surprisingly efficient and fast for this particular data set."
   ]
  },
  {
   "cell_type": "markdown",
   "metadata": {},
   "source": [
    "## Conclusion"
   ]
  },
  {
   "cell_type": "markdown",
   "metadata": {},
   "source": [
    "This notebook has extensively explored the computational methods used to solve the Countdown Numbers Game, revealing the complex intricacies and diverse approaches that can be employed to tackle this challenging problem. We have examined three primary methodologies: brute force search, dynamic programming, and heuristic approaches, each offering unique benefits and inherent challenges.\n",
    "\n",
    "The brute force approach, although thorough and comprehensive, has scalability limitations and high computational demands. Due to its exhaustive nature, it becomes increasingly impractical for larger datasets or more complex scenarios. However, as seen in the tests, it can sometimes provide precise solutions quickly, exceeding expectations in smaller, constrained environments.\n",
    "\n",
    "Dynamic programming stands out for its efficiency. It breaks down the problem into manageable subproblems and uses memoisation to eliminate unnecessary recalculations. This method speeds up the computation process, ensuring scalability and manageability and making it particularly effective for complex numerical challenges where accuracy is critical.\n",
    "\n",
    "On the other hand, heuristic algorithms capitalise on speed and adaptability. These strategies typically yield faster solutions through real-time, adaptive decision-making. Although they may not always provide the optimal outcome, they deliver suitable solutions quickly, which is highly advantageous in scenarios where time constraints outweigh the need for perfection.\n",
    "\n",
    "The analysis conducted in this notebook highlights the distinct characteristics and suitability of each algorithm for different computational needs and emphasises the broader implications of these strategies in computational theory and practice. Through this exploration, we enhance our understanding of specific algorithmic techniques, enriching our approach to complex numerical and logistical problems.\n",
    "\n",
    "Overall, this notebook helps us grasp how to solve difficult problems using algorithms, with insights that apply not just to games but to real-world issues in science and engineering.\n"
   ]
  },
  {
   "cell_type": "markdown",
   "metadata": {},
   "source": [
    "## References"
   ]
  },
  {
   "cell_type": "markdown",
   "metadata": {},
   "source": [
    "- [1] - [Countdown Game Show](http://datagenetics.com/blog/august32014/index.htm)\n",
    "- [2] - [Countdown Game Example](https://www.quizmasters.biz/DB/Que/Static/Brainteasers/Countdown%20Numbers.html)\n",
    "- [3] - [Name of the Countdown Numbers round problem - and algorithmic solutions?](https://softwareengineering.stackexchange.com/questions/213924/name-of-the-countdown-numbers-round-problem-and-algorithmic-solutions)\n",
    "- [4] - [What is Dynamic Programming](https://www.spiceworks.com/tech/devops/articles/what-is-dynamic-programming/)\n",
    "- [5] - [Heuristic Algorithms](https://optimization.cbe.cornell.edu/index.php?title=Heuristic_algorithms)\n",
    "- [6] - [Countdown](https://www.cs.nott.ac.uk/~pszgmh/countdown.pdf)\n",
    "- [7] - [Reverse Polish Notation](https://ianmcloughlin.github.io/reverse_polish_notation/)\n",
    "- [8] - [Countdown numbers game (Solution generator)](https://codereview.stackexchange.com/questions/190533/countdown-numbers-game-solution-generator)"
   ]
  }
 ],
 "metadata": {
  "kernelspec": {
   "display_name": "Python 3 (ipykernel)",
   "language": "python",
   "name": "python3"
  },
  "language_info": {
   "codemirror_mode": {
    "name": "ipython",
    "version": 3
   },
   "file_extension": ".py",
   "mimetype": "text/x-python",
   "name": "python",
   "nbconvert_exporter": "python",
   "pygments_lexer": "ipython3",
   "version": "3.10.13"
  }
 },
 "nbformat": 4,
 "nbformat_minor": 4
}

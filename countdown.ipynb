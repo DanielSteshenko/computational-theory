{
 "cells": [
  {
   "cell_type": "markdown",
   "metadata": {},
   "source": [
    "# Countdown Numbers Game"
   ]
  },
  {
   "cell_type": "markdown",
   "metadata": {},
   "source": [
    "### G00380007\n",
    "---"
   ]
  },
  {
   "cell_type": "markdown",
   "metadata": {},
   "source": [
    "## Introduction"
   ]
  },
  {
   "cell_type": "markdown",
   "metadata": {},
   "source": [
    "The Countdown Numbers Game is a compelling segment of the popular British television show \"Countdown\". In it, contestants use arithmetic to reach a randomly generated target number using a set of six given numbers. The segment offers a fascinating challenge that combines elements of number theory and operational strategy. [1]\n",
    "\n",
    "The game's rules are straightforward yet intricate. Contestants are provided with six numbers chosen from a predefined list, which includes small numbers (two sets of each integer from 1 to 10) and large numbers (25, 50, 75, and 100). These numbers are used to achieve a randomly selected target number, ranging between 101 and 999. Participants must use any combination of addition, subtraction, multiplication, and division to reach this number, adhering to two primary constraints: each of the six numbers can be used only once, and the operations must result in whole numbers. [1]\n",
    "\n",
    "The game may appear simple, but it is actually quite complex. Players must not only perform rapid calculations but also develop strategies to approximate or exactly reach the target number within a 30-second time frame. This makes the game a test of mathematical skill, quick thinking, and strategic planning. [1]\n",
    "\n",
    "The following sections will delve deeper into the analysis of the game's complexity, the algorithmic approach to solving the game, and the practical implementation of these strategies in a Python function designed to automate solutions. Through this exploration, I aim to provide a comprehensive understanding of the Countdown Numbers Game and its broader implications in computational problem-solving."
   ]
  },
  {
   "cell_type": "markdown",
   "metadata": {},
   "source": [
    "## Analysis of the Countdown Numbers Game"
   ]
  },
  {
   "cell_type": "markdown",
   "metadata": {},
   "source": [
    "### Explanation of Computational Complexity\n",
    "\n",
    "The Countdown Numbers Game presents a non-trivial example of computational complexity, primarily due to the vast number of combinations and operations that can be performed with the six chosen numbers. The task can be categorised as a constraint satisfaction problem, where the constraints are the operations (addition, subtraction, multiplication, division) and the requirement that these operations result in whole numbers.\n",
    "\n",
    "Complexity arises from the factorial growth of possible combinations of numbers and operations. For example, with six numbers, there are six ways to order them, and for each arrangement, the number of operational combinations between pairs of numbers grows exponentially. This factorial growth implies that a brute-force approach, where every possible combination and operation is tested, becomes computationally expensive and impractical as the input size grows, classifying this problem within NP-hard problems in computational complexity theory. [3]\n",
    "\n",
    "\n"
   ]
  },
  {
   "cell_type": "markdown",
   "metadata": {},
   "source": [
    "### Approach to Solving the Countdown Numbers Game\n",
    "\n",
    "Solving the Countdown Numbers Game effectively requires understanding various strategic algorithms that can efficiently explore the vast search space. The following approaches each offer unique advantages depending on the situation:\n",
    "\n",
    "1. **Dynamic Programming:** By breaking down the problem into smaller subproblems, dynamic programming can be used to build up solutions to the larger problem. [4]\n",
    "   - Process:\n",
    "        - Create a table.\n",
    "        - Fill the initial values in the table, such as solving for single numbers alone.\n",
    "        - For each subset of numbers, compute all possible results using basic arithmetic operations and store them in the table.\n",
    "        Look in the table to see if the target number can be reached with any combination of numbers and operations.\n",
    "        - If the target is met, backtrack through the table to reconstruct the sequence of operations used.\n",
    "\n",
    "\n",
    "2. **Heuristic Algorithms:** Heuristics, such as genetic algorithms or simulated annealing, can be used to search the solution space more randomly but effectively. They often find good solutions quickly, even if they cannot always guarantee finding the best solution. [5]\n",
    "    - Process:\n",
    "        - Start with one or more random combinations of numbers and operations as the initial solution set.\n",
    "        - Create a function to evaluate how close a solution is to the target number.\n",
    "        - For genetic algorithms: Select the best solutions, cross them over to create new solutions, and mutate some randomly.\n",
    "        - For simulated annealing, randomly tweak a solution and decide whether to keep it based on its score and a probability that decreases over time.\n",
    "        - Continue iterating and improving the solutions until a satisfactory solution is found or a maximum number of iterations is reached.\n",
    "        - Choose the solution closest to the target number out of all iterations.\n",
    "\n",
    "3. **Brute Force Approach:** This method involves trying every possible combination of numbers and operations to reach the target number. It's straightforward but computationally expensive, making it feasible only for smaller datasets. [6]\n",
    "   - Process\n",
    "       - Enumerate all possible ways to use the six numbers with arithmetic operations.\n",
    "       - Calculate the result of each combination.\n",
    "       - Check each result against the target number to find an exact match or the closest possible solution.\n",
    "       - Return the combination that meets the target or comes closest within an acceptable margin.\n",
    "\n",
    "\n",
    "\n",
    "Each approach has its strengths and can be chosen based on specific requirements for solution speed, accuracy, and the available computational resources. In practice, a combination of these methods might be used to handle edge cases more efficiently or when close approximations to the target are acceptable."
   ]
  },
  {
   "cell_type": "markdown",
   "metadata": {},
   "source": [
    "### Example Game"
   ]
  },
  {
   "cell_type": "markdown",
   "metadata": {},
   "source": [
    "To demonstrate the application of solving strategies for the Countdown Numbers Game, consider these two example scenarios:\n",
    "\n",
    "**Simple Game Example**\n",
    "- **Target Number:** `820`\n",
    "- **Available Numbers:** `75, 2, 6, 7, 7, 10`\n",
    "\n",
    "**Solution Process:**\n",
    "\n",
    "1. **Step 1:** Combine 75 and 7.\n",
    "   - Calculation: 75 + 7 = 82\n",
    "2. **Step 2:** Multiply the result by 10 to reach the target.\n",
    "   - Calculation: 82 x 10 = 820 // Target number reached\n",
    "\n",
    "This example showcases a straightforward application of arithmetic operations to reach the target number efficiently.\n",
    "\n",
    "**Complex Game Example**\n",
    "- **Target Number:** `591`\n",
    "- **Available Numbers:** `1, 6, 9, 6, 2, 75`\n",
    "\n",
    "**Solution Process**\n",
    "\n",
    "1. **Step 1:** Divide 6 by 2.\n",
    "   - Calculation: 6 / 2 = 3\n",
    "2. **Step 2:** Add the result to another 6.\n",
    "   - Calculation: 6 + 3 = 9\n",
    "3. **Step 3:** Subtract 1 from the result.\n",
    "   - Calculation: 9 - 1 = 8\n",
    "4. **Step 4:** Multiply the result by 75.\n",
    "   - Calculation: 8 x 75 = 600\n",
    "5. **Step 5:** Subtract 9 to achieve the target number.\n",
    "   - Calculation: 600 - 9 = 591 // Target number reached\n",
    "\n",
    "This more complex scenario illustrates the use of multiple operations in sequence to solve for the target number, highlighting the challenge of choosing the right operations and sequence to reach the solution.\n"
   ]
  },
  {
   "cell_type": "markdown",
   "metadata": {},
   "source": [
    "## Implementation \n"
   ]
  },
  {
   "cell_type": "code",
   "execution_count": 49,
   "metadata": {},
   "outputs": [],
   "source": [
    "import random "
   ]
  },
  {
   "cell_type": "code",
   "execution_count": 50,
   "metadata": {},
   "outputs": [],
   "source": [
    "def generate_numbers():\n",
    "    small_numbers = [random.randint(1, 10) for _ in range(4)]  \n",
    "    special_numbers = [25, 50, 75, 100]\n",
    "    large_numbers = random.sample(special_numbers, 2) \n",
    "    return small_numbers + large_numbers  "
   ]
  },
  {
   "cell_type": "code",
   "execution_count": 51,
   "metadata": {},
   "outputs": [],
   "source": [
    "def generate_target():\n",
    "    return random.randint(101, 999)"
   ]
  },
  {
   "cell_type": "markdown",
   "metadata": {},
   "source": [
    "## Implementation (Brute Force Approach)\n"
   ]
  },
  {
   "cell_type": "code",
   "execution_count": 47,
   "metadata": {},
   "outputs": [],
   "source": [
    "def solve_countdown(numbers, target):\n",
    "    if len(numbers) == 1 and numbers[0] == target:\n",
    "        return [str(numbers[0])]\n",
    "    elif len(numbers) == 1:\n",
    "        return None\n",
    "\n",
    "    for i in range(len(numbers)):\n",
    "        for j in range(i+1, len(numbers)):\n",
    "            a = numbers[i]\n",
    "            b = numbers[j]\n",
    "            remaining_numbers = [numbers[k] for k in range(len(numbers)) if k != i and k != j]\n",
    "\n",
    "            result = solve_countdown(remaining_numbers + [a + b], target)\n",
    "            if result is not None:\n",
    "                return [f\"{a} + {b} = {a + b}\"] + result\n",
    "\n",
    "            if a > b:\n",
    "                result = solve_countdown(remaining_numbers + [a - b], target)\n",
    "                if result is not None:\n",
    "                    return [f\"{a} - {b} = {a - b}\"] + result\n",
    "            \n",
    "            result = solve_countdown(remaining_numbers + [a * b], target)\n",
    "            if result is not None:\n",
    "                return [f\"{a} * {b} = {a * b}\"] + result\n",
    "\n",
    "            if b != 0 and a % b == 0:\n",
    "                result = solve_countdown(remaining_numbers + [a // b], target)\n",
    "                if result is not None:\n",
    "                    return [f\"{a} // {b} = {a // b}\"] + result\n",
    "\n",
    "    return None\n"
   ]
  },
  {
   "cell_type": "code",
   "execution_count": 48,
   "metadata": {},
   "outputs": [
    {
     "name": "stdout",
     "output_type": "stream",
     "text": [
      "Numbers: [10, 1, 5, 2, 50, 75]\n",
      "Target: 617\n",
      "Solution: ['10 - 2 = 8', '50 + 75 = 125', '5 * 125 = 625', '1 * 8 = 8', '625 - 8 = 617', '617']\n"
     ]
    }
   ],
   "source": [
    "numbers = generate_numbers()\n",
    "target = generate_target()\n",
    "print(\"Numbers:\", numbers)\n",
    "print(\"Target:\", target)\n",
    "\n",
    "solution = solve_countdown(numbers, target)\n",
    "if solution:\n",
    "    print(\"Solution:\", solution)\n",
    "else:\n",
    "    print(\"No solution found.\")"
   ]
  },
  {
   "cell_type": "markdown",
   "metadata": {},
   "source": [
    "### Description of the `solve_numbers` Function"
   ]
  },
  {
   "cell_type": "markdown",
   "metadata": {},
   "source": [
    "The `solve_countdown` function is designed to find a solution for reaching a target number using a given set of numbers through a series of arithmetic operations. The function implements a brute force approach, repeatedly exploring all possible combinations of numbers and operations until a solution is found or all possibilities are exhausted.\n",
    "\n",
    "**Function Operation:**\n",
    "1. **Base Case Checks:**\n",
    "   - If only one number remains and it matches the target, the function returns this number as the solution.\n",
    "   - If one number remains but does not match the target, the function returns None, indicating no solution was found with that path.\n",
    "2. **Recursive Exploration:**\n",
    "   - The function iterates over all pairs of numbers in the current list.\n",
    "   - For each pair, it considers the possible results from applying each arithmetic operation: addition, subtraction (if the first number is larger to avoid negative results), multiplication, and division (if the second number is not zero and divides the first number evenly).\n",
    "   - For each result, the function recursively calls itself with the new list of numbers, where their operational result replaces the pair of numbers used.\n",
    "3. **Solution:**\n",
    "   - If a recursive call returns a solution, the function prepends the current operation to the list of operations leading to that solution, gradually building a complete solution path as the recursion unwinds.\n",
    "   -  The function returns `None` if the recursion through all operations and pairs does not find a solution.\n",
    "4. **Return Value:**\n",
    "   - The function ultimately returns a list of strings, each describing a step in the sequence of operations that leads to the target number, or `None` if no such sequence exists.\n",
    "\n",
    "\n",
    "\n"
   ]
  },
  {
   "cell_type": "markdown",
   "metadata": {},
   "source": [
    "## Implementation (Dynamic Programming)"
   ]
  },
  {
   "cell_type": "code",
   "execution_count": 52,
   "metadata": {},
   "outputs": [],
   "source": [
    "def solve_countdown_dp(numbers, target, memo={}):\n",
    "    key = tuple(sorted(numbers)), target\n",
    "    if key in memo:\n",
    "        return memo[key]\n",
    "    if len(numbers) == 1:\n",
    "        if numbers[0] == target:\n",
    "            return [str(numbers[0])]\n",
    "        else:\n",
    "            return None\n",
    "\n",
    "    for i in range(len(numbers)):\n",
    "        for j in range(i + 1, len(numbers)):\n",
    "            num1, num2 = numbers[i], numbers[j]\n",
    "            remaining = numbers[:i] + numbers[i+1:j] + numbers[j+1:]\n",
    "            \n",
    "            operations = []\n",
    "            operations.append((num1 + num2, f\"{num1} + {num2}\"))\n",
    "            if num1 > num2:\n",
    "                operations.append((num1 - num2, f\"{num1} - {num2}\"))\n",
    "            operations.append((num1 * num2, f\"{num1} * {num2}\"))\n",
    "            if num2 != 0 and num1 % num2 == 0:\n",
    "                operations.append((num1 // num2, f\"{num1} // {num2}\"))\n",
    "\n",
    "            for result, expr in operations:\n",
    "                subproblem = solve_countdown_dp(remaining + [result], target, memo)\n",
    "                if subproblem is not None:\n",
    "                    solution = [expr + f\" = {result}\"] + subproblem\n",
    "                    memo[key] = solution\n",
    "                    return solution\n",
    "    memo[key] = None\n",
    "    return None\n"
   ]
  },
  {
   "cell_type": "code",
   "execution_count": 53,
   "metadata": {},
   "outputs": [
    {
     "name": "stdout",
     "output_type": "stream",
     "text": [
      "Numbers: [1, 5, 6, 10, 50, 25]\n",
      "Target: 831\n",
      "Solution found:\n",
      "1 + 5 = 6\n",
      "6 + 10 = 16\n",
      "50 * 16 = 800\n",
      "25 + 6 = 31\n",
      "800 + 31 = 831\n",
      "831\n"
     ]
    }
   ],
   "source": [
    "numbers = generate_numbers()\n",
    "target = generate_target()\n",
    "print(\"Numbers:\", numbers)\n",
    "print(\"Target:\", target)\n",
    "\n",
    "solution = solve_countdown_dp(numbers, target)\n",
    "if solution:\n",
    "    print(\"Solution found:\")\n",
    "    for step in solution:\n",
    "        print(step)\n",
    "else:\n",
    "    print(\"No solution found.\")"
   ]
  },
  {
   "cell_type": "markdown",
   "metadata": {},
   "source": [
    "### Description of the `solve_countdown_dp` Function"
   ]
  },
  {
   "cell_type": "markdown",
   "metadata": {},
   "source": [
    "The `solve_countdown_dp` function is designed to find a solution for reaching a target number using a given set of numbers through a series of arithmetic operations. This function employs a dynamic programming approach, which optimises the search by breaking down the problem into smaller, manageable subproblems, solving each recursively, and storing their results to avoid redundant computations.\n"
   ]
  },
  {
   "cell_type": "markdown",
   "metadata": {},
   "source": [
    "## Conclusion"
   ]
  },
  {
   "cell_type": "markdown",
   "metadata": {},
   "source": [
    "In conclusion, this paper has delved into the computational approaches to solving the Countdown Numbers Game, providing insights into the challenges and strategies in addressing this complex problem. We explored three main methods: brute force search, dynamic programming, and heuristic approaches, each illustrating distinct strategies for solving the game.\n",
    "\n",
    "Each method offers its own advantages and trade-offs. The brute force approach, while comprehensive, may suffer from scalability issues and significant computational overhead, particularly with larger sets of numbers. Dynamic programming introduces more efficiency by breaking the problem into manageable subproblems and storing solutions to avoid redundant calculations. Meanwhile, heuristic methods prioritize speed and adaptability in decision-making, which can sometimes lead to less-than-optimal solutions but with the benefit of quicker responses.\n",
    "\n",
    "In closing, the analysis provided in this paper has illuminated the computational complexity of the Countdown Numbers Game and the diverse array of strategies available for effectively solving it. "
   ]
  },
  {
   "cell_type": "markdown",
   "metadata": {},
   "source": [
    "## References"
   ]
  },
  {
   "cell_type": "markdown",
   "metadata": {},
   "source": [
    "- [1] - [Countdown Game Show](http://datagenetics.com/blog/august32014/index.htm)\n",
    "- [2] - [Countdown Game Example](https://www.quizmasters.biz/DB/Que/Static/Brainteasers/Countdown%20Numbers.html)\n",
    "- [3] - [Name of the Countdown Numbers round problem - and algorithmic solutions?](https://softwareengineering.stackexchange.com/questions/213924/name-of-the-countdown-numbers-round-problem-and-algorithmic-solutions)\n",
    "- [4] - [What is Dynamic Programming](https://www.spiceworks.com/tech/devops/articles/what-is-dynamic-programming/)\n",
    "- [5] - [Heuristic Algorithms](https://optimization.cbe.cornell.edu/index.php?title=Heuristic_algorithms)\n",
    "- [6] - [Countdown](https://www.cs.nott.ac.uk/~pszgmh/countdown.pdf)"
   ]
  }
 ],
 "metadata": {
  "kernelspec": {
   "display_name": "Python 3 (ipykernel)",
   "language": "python",
   "name": "python3"
  },
  "language_info": {
   "codemirror_mode": {
    "name": "ipython",
    "version": 3
   },
   "file_extension": ".py",
   "mimetype": "text/x-python",
   "name": "python",
   "nbconvert_exporter": "python",
   "pygments_lexer": "ipython3",
   "version": "3.10.13"
  }
 },
 "nbformat": 4,
 "nbformat_minor": 4
}

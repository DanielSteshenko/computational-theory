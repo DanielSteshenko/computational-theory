{
 "cells": [
  {
   "cell_type": "markdown",
   "metadata": {},
   "source": [
    "# Countdown Numbers Game"
   ]
  },
  {
   "cell_type": "markdown",
   "metadata": {},
   "source": [
    "### G00380007\n",
    "---"
   ]
  },
  {
   "cell_type": "markdown",
   "metadata": {},
   "source": [
    "## Introduction"
   ]
  },
  {
   "cell_type": "markdown",
   "metadata": {},
   "source": [
    "The Countdown Numbers Game is a compelling segment of the popular British television show \"Countdown\". In it, contestants use arithmetic to reach a randomly generated target number using a set of six given numbers. The segment offers a fascinating challenge that combines elements of number theory and operational strategy.\n",
    "\n",
    "The game's rules are straightforward yet intricate. Contestants are provided with six numbers chosen from a predefined list, which includes small numbers (two sets of each integer from 1 to 10) and large numbers (25, 50, 75, and 100). These numbers are used to achieve a randomly selected target number, ranging between 101 and 999. Participants must use any combination of addition, subtraction, multiplication, and division to reach this number, adhering to two primary constraints: each of the six numbers can be used only once, and the operations must result in whole numbers.\n",
    "\n",
    "The game may appear simple, but it is actually quite complex. Players must not only perform rapid calculations but also develop strategies to approximate or exactly reach the target number within a 30-second time frame. This makes the game a test of mathematical skill, quick thinking, and strategic planning.\n",
    "\n",
    "The following sections will delve deeper into the analysis of the game's complexity, the algorithmic approach to solving the game, and the practical implementation of these strategies in a Python function designed to automate solutions. Through this exploration, I aim to provide a comprehensive understanding of the Countdown Numbers Game and its broader implications in computational problem-solving."
   ]
  },
  {
   "cell_type": "markdown",
   "metadata": {},
   "source": [
    "### Analysis of the Countdown Numbers Game"
   ]
  },
  {
   "cell_type": "markdown",
   "metadata": {},
   "source": [
    "#### Explanation of Computational Complexity\n",
    "\n",
    "The Countdown Numbers Game presents a non-trivial example of computational complexity, primarily due to the vast number of combinations and operations that can be performed with the six chosen numbers. The task can be categorised as a constraint satisfaction problem, where the constraints are the operations (addition, subtraction, multiplication, division) and the requirement that these operations result in whole numbers.\n",
    "\n",
    "Complexity arises from the factorial growth of possible combinations of numbers and operations. For example, with six numbers, there are six ways to order them, and for each arrangement, the number of operational combinations between pairs of numbers grows exponentially. This factorial growth implies that a brute-force approach, where every possible combination and operation is tested, becomes computationally expensive and impractical as the input size grows, classifying this problem within NP-hard problems in computational complexity theory.\n",
    "\n",
    "\n"
   ]
  },
  {
   "cell_type": "markdown",
   "metadata": {},
   "source": [
    "#### Approach to Solving the Countdown Numbers Game\n",
    "\n",
    "Solving the Countdown Numbers Game effectively requires understanding various strategic algorithms that can efficiently explore the vast search space. The following approaches each offer unique advantages depending on the situation:\n",
    "\n",
    "1. **Dynamic Programming:** By breaking down the problem into smaller subproblems, dynamic programming can be used to build up solutions to the larger problem.\n",
    "   - Process:\n",
    "        - Create a table.\n",
    "        - Fill the initial values in the table, such as solving for single numbers alone.\n",
    "        - For each subset of numbers, compute all possible results using basic arithmetic operations and store them in the table.\n",
    "        Look in the table to see if the target number can be reached with any combination of numbers and operations.\n",
    "        - If the target is met, backtrack through the table to reconstruct the sequence of operations used.\n",
    "\n",
    "\n",
    "2. **Heuristic Algorithms:** Heuristics, such as genetic algorithms or simulated annealing, can be used to search the solution space more randomly but effectively. They often find good solutions quickly, even if they cannot always guarantee finding the best solution.\n",
    "    - Process:\n",
    "        - Start with one or more random combinations of numbers and operations as the initial solution set.\n",
    "        - Create a function to evaluate how close a solution is to the target number.\n",
    "        - For genetic algorithms: Select the best solutions, cross them over to create new solutions, and mutate some randomly.\n",
    "        - For simulated annealing, randomly tweak a solution and decide whether to keep it based on its score and a probability that decreases over time.\n",
    "        - Continue iterating and improving the solutions until a satisfactory solution is found or a maximum number of iterations is reached.\n",
    "        - Choose the solution closest to the target number out of all iterations.\n",
    "\n",
    "3. **Brute Force Approach:** This method involves trying every possible combination of numbers and operations to reach the target number. It's straightforward but computationally expensive, making it feasible only for smaller datasets.\n",
    "   - Process\n",
    "       - Enumerate all possible ways to use the six numbers with arithmetic operations.\n",
    "       - Calculate the result of each combination.\n",
    "       - Check each result against the target number to find an exact match or the closest possible solution.\n",
    "       - Return the combination that meets the target or comes closest within an acceptable margin.\n",
    "\n",
    "\n",
    "\n",
    "Each approach has its strengths and can be chosen based on specific requirements for solution speed, accuracy, and the available computational resources. In practice, a combination of these methods might be used to handle edge cases more efficiently or when close approximations to the target are acceptable."
   ]
  },
  {
   "cell_type": "markdown",
   "metadata": {},
   "source": [
    "#### Example Game"
   ]
  },
  {
   "cell_type": "markdown",
   "metadata": {},
   "source": [
    "In an example game, contestants are given the target number: ``820``\n",
    "\n",
    "The 6 numbers they have to work with are: ```75, 2, 6, 7, 7,10```\n",
    "\n",
    "One solution of reaching the target number using arithmetic operations would be:\n",
    "\n",
    "**Step 1:**\n",
    "75 + 7 = 82\n",
    "\n",
    "**Step 2:**\n",
    "82 x 10 = 820 // Reached the targe tnumber\n",
    "\n",
    "\n",
    "A more complex game of countdown would be something as follows:\n",
    "\n",
    "Target number is: ```591```\n",
    "\n",
    "6 given numbers that: ```1, 6, 9, 6, 2, 75```\n",
    "\n",
    "A possible solution:\n",
    "\n",
    "**Step 1:**\n",
    "6 ÷ 2 = 3\n",
    "\n",
    "**Step 2:**\n",
    "6 + 3 = 9\n",
    "\n",
    "**Step 3:**\n",
    "9 - 1 = 8\n",
    "\n",
    "**Step 4:**\n",
    "8 x 75 = 600\n",
    "\n",
    "**Step 5:**\n",
    "600 - 9 = 591 // Target number"
   ]
  },
  {
   "cell_type": "markdown",
   "metadata": {},
   "source": [
    "### Implementation using Python\n"
   ]
  },
  {
   "cell_type": "code",
   "execution_count": 8,
   "metadata": {},
   "outputs": [],
   "source": [
    "import random "
   ]
  },
  {
   "cell_type": "code",
   "execution_count": 9,
   "metadata": {},
   "outputs": [],
   "source": [
    "def generate_numbers():\n",
    "    numbers = [random.randint(1, 10) for _ in range(6)]\n",
    "    special_numbers = [25, 50, 75, 100]\n",
    "    numbers.extend(random.sample(special_numbers, 2))\n",
    "    return numbers"
   ]
  },
  {
   "cell_type": "code",
   "execution_count": 10,
   "metadata": {},
   "outputs": [],
   "source": [
    "def generate_target():\n",
    "    return random.randint(101, 999)"
   ]
  },
  {
   "cell_type": "code",
   "execution_count": 2,
   "metadata": {},
   "outputs": [],
   "source": [
    "def solve_countdown(numbers, target):\n",
    "    if len(numbers) == 1 and numbers[0] == target:\n",
    "        return [str(numbers[0])]\n",
    "    elif len(numbers) == 1:\n",
    "        return None\n",
    "\n",
    "    for i in range(len(numbers)):\n",
    "        for j in range(i+1, len(numbers)):\n",
    "            a = numbers[i]\n",
    "            b = numbers[j]\n",
    "            remaining_numbers = [numbers[k] for k in range(len(numbers)) if k != i and k != j]\n",
    "\n",
    "            result = solve_countdown(remaining_numbers + [a + b], target)\n",
    "            if result is not None:\n",
    "                return [f\"{a} + {b} = {a + b}\"] + result\n",
    "\n",
    "            if a > b:\n",
    "                result = solve_countdown(remaining_numbers + [a - b], target)\n",
    "                if result is not None:\n",
    "                    return [f\"{a} - {b} = {a - b}\"] + result\n",
    "            \n",
    "            result = solve_countdown(remaining_numbers + [a * b], target)\n",
    "            if result is not None:\n",
    "                return [f\"{a} * {b} = {a * b}\"] + result\n",
    "\n",
    "            if b != 0 and a % b == 0:\n",
    "                result = solve_countdown(remaining_numbers + [a // b], target)\n",
    "                if result is not None:\n",
    "                    return [f\"{a} // {b} = {a // b}\"] + result\n",
    "\n",
    "    return None\n"
   ]
  },
  {
   "cell_type": "code",
   "execution_count": 12,
   "metadata": {},
   "outputs": [
    {
     "name": "stdout",
     "output_type": "stream",
     "text": [
      "Numbers: [10, 1, 5, 4, 10, 6, 50, 25]\n",
      "Target: 955\n",
      "Solution: ['10 + 1 = 11', '5 + 4 = 9', '6 * 9 = 54', '50 - 11 = 39', '54 + 39 = 93', '10 * 93 = 930', '25 + 930 = 955', '955']\n"
     ]
    }
   ],
   "source": [
    "numbers = generate_numbers()\n",
    "target = generate_target()\n",
    "print(\"Numbers:\", numbers)\n",
    "print(\"Target:\", target)\n",
    "\n",
    "solution = solve_countdown(numbers, target)\n",
    "if solution:\n",
    "    print(\"Solution:\", solution)\n",
    "else:\n",
    "    print(\"No solution found.\")"
   ]
  },
  {
   "cell_type": "markdown",
   "metadata": {},
   "source": [
    "#### Explanation"
   ]
  },
  {
   "cell_type": "markdown",
   "metadata": {},
   "source": [
    "1. **`generate_numbers()` function:**\n",
    "    - This function generates a list of six random numbers between 1 and 10.\n",
    "    - It also selects two special numbers randomly from a list containing 25, 50, 75, and 100.\n",
    "    - The function returns this list of numbers.\n",
    "2. **`generate_target()` function:**\n",
    "    - This function generates and returns a random target number between 101 and 999. This is the number that players will try to reach using the generated numbers and arithmetic operations.\n",
    "3. **`solve_countdown(numbers, target)` function:**\n",
    "    - This is a recursive function designed to solve the Countdown game by attempting to match the target number using the provided list of numbers and arithmetic operations (addition, subtraction, multiplication, and division).\n",
    "    - The function iterates over every pair of numbers in the list, performing the four allowed operations. For each operation that results in a new number:\n",
    "        - If a recursive call returns a non `None` result, it means a valid sequence of operations leading to the target has been found. The function then prepends the current operation to this result and returns it.\n",
    "        - It checks all possible operations:\n",
    "            - **Addition (a + b):** Is always checked.\n",
    "            - **Subtraction (a - b):** Only if a is greater than b to avoid negative results.\n",
    "            - **Multiplication (a * b):** Always checked.\n",
    "            - **Division (a // b):** Only checked if b is not zero and a is divisible by b without remainder, ensuring integer results.\n",
    "    - If no operations result in a solution, it returns None.\n",
    "\n"
   ]
  },
  {
   "cell_type": "markdown",
   "metadata": {},
   "source": [
    "## References"
   ]
  },
  {
   "cell_type": "markdown",
   "metadata": {},
   "source": [
    "- [Countdown Game Show](http://datagenetics.com/blog/august32014/index.htm)\n",
    "- [Countdown Gamge Example](https://www.quizmasters.biz/DB/Que/Static/Brainteasers/Countdown%20Numbers.html)\n",
    "- [Name of the Countdown Numbers round problem - and algorithmic solutions?](https://softwareengineering.stackexchange.com/questions/213924/name-of-the-countdown-numbers-round-problem-and-algorithmic-solutions)\n",
    "- [What is Dynamic Programming](https://www.spiceworks.com/tech/devops/articles/what-is-dynamic-programming/)"
   ]
  },
  {
   "cell_type": "code",
   "execution_count": null,
   "metadata": {},
   "outputs": [],
   "source": []
  }
 ],
 "metadata": {
  "kernelspec": {
   "display_name": "Python 3 (ipykernel)",
   "language": "python",
   "name": "python3"
  },
  "language_info": {
   "codemirror_mode": {
    "name": "ipython",
    "version": 3
   },
   "file_extension": ".py",
   "mimetype": "text/x-python",
   "name": "python",
   "nbconvert_exporter": "python",
   "pygments_lexer": "ipython3",
   "version": "3.10.13"
  }
 },
 "nbformat": 4,
 "nbformat_minor": 4
}

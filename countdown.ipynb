{
 "cells": [
  {
   "cell_type": "markdown",
   "metadata": {},
   "source": [
    "# Countdown Numbers Game"
   ]
  },
  {
   "cell_type": "markdown",
   "metadata": {},
   "source": [
    "### G00380007\n",
    "---"
   ]
  },
  {
   "cell_type": "markdown",
   "metadata": {},
   "source": [
    "## What is the Countdown Numbers game?"
   ]
  },
  {
   "cell_type": "markdown",
   "metadata": {},
   "source": [
    "The Countdown Numbers Game is a segment from the popular British television game show \"Countdown.\" In this game, contestants are challenged to reach a randomly generated target number using six other randomly chosen numbers. The six numbers are selected from a pool that includes two sets of numbers from 1 to 10 and one set each of 25, 50, 75, and 100.\n",
    "\n",
    "Contestants must try to compute the target number using any combination of the six numbers and basic arithmetic operations: addition, subtraction, multiplication, and division. The rules are as follows:\n",
    "\n",
    "- Each of the six numbers can be used only once in the calculation.\n",
    "- Operations can be repeated any number of times.\n",
    "- Division operations must result in whole numbers; fractional results are not allowed.\n",
    "- Subtractions that result in negative numbers are not allowed.\n",
    "\n",
    "\n",
    "The primary objective is to exactly match the target number, or get as close as possible. Contestants are given a short amount of time (usually 30 seconds) to find a solution, making quick thinking and efficient calculation crucial to success. "
   ]
  },
  {
   "cell_type": "markdown",
   "metadata": {},
   "source": [
    "### Analysis of the Countdown Numbers game."
   ]
  },
  {
   "cell_type": "markdown",
   "metadata": {},
   "source": [
    "A significant computational difficulty characterises the Countdown Numbers Game since its behaviour is closely related to combinatorics and the selection and implementation of numbers. Here is an overview of its complexity: Here is an overview of its complexity:\n",
    "\n",
    "\n",
    "- **Exponential Growth of Possibilities:** The game mechanics include selecting six numbers that can participate in various operations. Each number can be used only once in each calculation. This particular rule implies that the number of possible combinations increases exponentially as players try to find various sequences that lead to the target number.\n",
    "\n",
    "- **Permutations of Numbers:** The multiple combinations of numbers further compound the game's complexity, each offering a wide range of possible ways to perform mathematical operations. The arrangement of operation and number selection is the key to the final result. Thus, we must thoroughly examine each permutation.\n",
    "\n",
    "- **Recursive Solution Space Exploration:** For the game to overcome its challenges, recursive algorithms are usually used, the process of which is one operation or number at a time. This way is similar to a tree structure, where each node is the current state of calculation, further branching into the potential future states depending on what operation or number will be chosen next.\n",
    "\n",
    "- **Constraint Satisfaction:** Unique operational restrictions aggravate the complexity, such as the numbers obtained by divisions should be integer values, and subtractions cannot produce negative numbers. Although these restrictions narrow the solution space, they also introduce additional constraints that must be satisfied during the calculation process.\n",
    "\n",
    "\n",
    "- **Optimisation Potential:** One might be inclined to think that a brute-force method can work. However, it is computationally expensive because it generates and evaluates many number and operator sequences.\n"
   ]
  },
  {
   "cell_type": "markdown",
   "metadata": {},
   "source": [
    "#### Example Game"
   ]
  },
  {
   "cell_type": "markdown",
   "metadata": {},
   "source": [
    "In an example game, contestants are given the target number: ``820``\n",
    "\n",
    "The 6 numbers they have to work with are: ```75, 2, 6, 7, 7,10```\n",
    "\n",
    "One solution of reaching the target number using arithmetic operations would be:\n",
    "\n",
    "**Step 1:**\n",
    "75 + 7 = 82\n",
    "\n",
    "**Step 2:**\n",
    "82 x 10 = 820 // Reached the targe tnumber\n",
    "\n",
    "\n",
    "A more complex game of countdown would be something as follows:\n",
    "\n",
    "Target number is: ```591```\n",
    "\n",
    "6 given numbers that: ```1, 6, 9, 6, 2, 75```\n",
    "\n",
    "A possible solution:\n",
    "\n",
    "**Step 1:**\n",
    "6 ÷ 2 = 3\n",
    "\n",
    "**Step 2:**\n",
    "6 + 3 = 9\n",
    "\n",
    "**Step 3:**\n",
    "9 - 1 = 8\n",
    "\n",
    "**Step 4:**\n",
    "8 x 75 = 600\n",
    "\n",
    "**Step 5:**\n",
    "600 - 9 = 591 // Target number"
   ]
  },
  {
   "cell_type": "markdown",
   "metadata": {},
   "source": [
    "### Implementation using Python\n"
   ]
  },
  {
   "cell_type": "code",
   "execution_count": 8,
   "metadata": {},
   "outputs": [],
   "source": [
    "import random "
   ]
  },
  {
   "cell_type": "code",
   "execution_count": 9,
   "metadata": {},
   "outputs": [],
   "source": [
    "def generate_numbers():\n",
    "    numbers = [random.randint(1, 10) for _ in range(6)]\n",
    "    special_numbers = [25, 50, 75, 100]\n",
    "    numbers.extend(random.sample(special_numbers, 2))\n",
    "    return numbers"
   ]
  },
  {
   "cell_type": "code",
   "execution_count": 10,
   "metadata": {},
   "outputs": [],
   "source": [
    "def generate_target():\n",
    "    return random.randint(101, 999)"
   ]
  },
  {
   "cell_type": "code",
   "execution_count": 11,
   "metadata": {},
   "outputs": [],
   "source": [
    "def solve_countdown(numbers, target):\n",
    "    if len(numbers) == 1 and numbers[0] == target:\n",
    "        return [str(numbers[0])]\n",
    "    elif len(numbers) == 1:\n",
    "        return None\n",
    "\n",
    "    for i in range(len(numbers)):\n",
    "        for j in range(i+1, len(numbers)):\n",
    "            a = numbers[i]\n",
    "            b = numbers[j]\n",
    "            remaining_numbers = [numbers[k] for k in range(len(numbers)) if k != i and k != j]\n",
    "\n",
    "            result = solve_countdown(remaining_numbers + [a + b], target)\n",
    "            if result is not None:\n",
    "                return [f\"{a} + {b} = {a + b}\"] + result\n",
    "\n",
    "            if a > b:\n",
    "                result = solve_countdown(remaining_numbers + [a - b], target)\n",
    "                if result is not None:\n",
    "                    return [f\"{a} - {b} = {a - b}\"] + result\n",
    "            \n",
    "            result = solve_countdown(remaining_numbers + [a * b], target)\n",
    "            if result is not None:\n",
    "                return [f\"{a} * {b} = {a * b}\"] + result\n",
    "\n",
    "            if b != 0 and a % b == 0:\n",
    "                result = solve_countdown(remaining_numbers + [a // b], target)\n",
    "                if result is not None:\n",
    "                    return [f\"{a} // {b} = {a // b}\"] + result\n",
    "\n",
    "    return None\n"
   ]
  },
  {
   "cell_type": "code",
   "execution_count": 12,
   "metadata": {},
   "outputs": [
    {
     "name": "stdout",
     "output_type": "stream",
     "text": [
      "Numbers: [10, 1, 5, 4, 10, 6, 50, 25]\n",
      "Target: 955\n",
      "Solution: ['10 + 1 = 11', '5 + 4 = 9', '6 * 9 = 54', '50 - 11 = 39', '54 + 39 = 93', '10 * 93 = 930', '25 + 930 = 955', '955']\n"
     ]
    }
   ],
   "source": [
    "numbers = generate_numbers()\n",
    "target = generate_target()\n",
    "print(\"Numbers:\", numbers)\n",
    "print(\"Target:\", target)\n",
    "\n",
    "solution = solve_countdown(numbers, target)\n",
    "if solution:\n",
    "    print(\"Solution:\", solution)\n",
    "else:\n",
    "    print(\"No solution found.\")"
   ]
  },
  {
   "cell_type": "markdown",
   "metadata": {},
   "source": [
    "#### Explanation"
   ]
  },
  {
   "cell_type": "markdown",
   "metadata": {},
   "source": [
    "EXPLAIN THE ABOVE CODE"
   ]
  },
  {
   "cell_type": "markdown",
   "metadata": {},
   "source": [
    "## References"
   ]
  },
  {
   "cell_type": "markdown",
   "metadata": {},
   "source": [
    "- [Countdown Game Show](http://datagenetics.com/blog/august32014/index.htm)\n",
    "- [Countdown Gamge Example](https://www.quizmasters.biz/DB/Que/Static/Brainteasers/Countdown%20Numbers.html)"
   ]
  }
 ],
 "metadata": {
  "kernelspec": {
   "display_name": "Python 3 (ipykernel)",
   "language": "python",
   "name": "python3"
  },
  "language_info": {
   "codemirror_mode": {
    "name": "ipython",
    "version": 3
   },
   "file_extension": ".py",
   "mimetype": "text/x-python",
   "name": "python",
   "nbconvert_exporter": "python",
   "pygments_lexer": "ipython3",
   "version": "3.10.13"
  }
 },
 "nbformat": 4,
 "nbformat_minor": 4
}

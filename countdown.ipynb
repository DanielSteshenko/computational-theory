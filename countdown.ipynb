{
 "cells": [
  {
   "cell_type": "markdown",
   "metadata": {},
   "source": [
    "# Countdown Numbers Game"
   ]
  },
  {
   "cell_type": "markdown",
   "metadata": {},
   "source": [
    "### G00380007\n",
    "---"
   ]
  },
  {
   "cell_type": "markdown",
   "metadata": {},
   "source": [
    "## What is the Countdown Numbers game?"
   ]
  },
  {
   "cell_type": "markdown",
   "metadata": {},
   "source": [
    "The countdown numbers game challenges contestants with six random numbers, including duplicates of integers from 1 to 10 and singular instances of 25, 50, 75 and 100. A target number ranging between 101 to 999, must be reached using basic arithmetic operations within a 30-second time frame. Each number must be used once. The use of fractions or negative numbers is prohibited. The contestant who reaches the number or the contestant closest to the target number wins the game.   "
   ]
  },
  {
   "cell_type": "markdown",
   "metadata": {},
   "source": [
    "### Analysis of the Countdown Numbers game."
   ]
  },
  {
   "cell_type": "markdown",
   "metadata": {},
   "source": [
    "Contestants are given 6 numbers and must use any of the 4 operations, addition, subtraction, multiplication and division. \n",
    "\n",
    "EXPAND ON THIS"
   ]
  },
  {
   "cell_type": "markdown",
   "metadata": {},
   "source": [
    "#### Example Game"
   ]
  },
  {
   "cell_type": "markdown",
   "metadata": {},
   "source": [
    "In an example game, contestants are given the target number: ``820``\n",
    "\n",
    "The 6 numbers they have to work with are: ```75, 2, 6, 7, 7,10```\n",
    "\n",
    "One solution of reaching the target number using arithmetic operations would be:\n",
    "\n",
    "**Step 1:**\n",
    "75 + 7 = 82\n",
    "\n",
    "**Step 2:**\n",
    "82 x 10 = 820 // Reached the targe tnumber\n",
    "\n",
    "\n",
    "A more complex game of countdown would be something as follows:\n",
    "\n",
    "Target number is: ```591```\n",
    "\n",
    "6 given numbers that: ```1, 6, 9, 6, 2, 75```\n",
    "\n",
    "A possible solution:\n",
    "\n",
    "**Step 1:**\n",
    "6 ÷ 2 = 3\n",
    "\n",
    "**Step 2:**\n",
    "6 + 3 = 9\n",
    "\n",
    "**Step 3:**\n",
    "9 - 1 = 8\n",
    "\n",
    "**Step 4:**\n",
    "8 x 75 = 600\n",
    "\n",
    "**Step 5:**\n",
    "600 - 9 = 591 // Target number"
   ]
  },
  {
   "cell_type": "markdown",
   "metadata": {},
   "source": [
    "## References"
   ]
  },
  {
   "cell_type": "markdown",
   "metadata": {},
   "source": [
    "- [Countdown Game Show](http://datagenetics.com/blog/august32014/index.htm)\n",
    "- [Countdown Gamge Example](https://www.quizmasters.biz/DB/Que/Static/Brainteasers/Countdown%20Numbers.html)"
   ]
  }
 ],
 "metadata": {
  "kernelspec": {
   "display_name": "Python 3 (ipykernel)",
   "language": "python",
   "name": "python3"
  },
  "language_info": {
   "codemirror_mode": {
    "name": "ipython",
    "version": 3
   },
   "file_extension": ".py",
   "mimetype": "text/x-python",
   "name": "python",
   "nbconvert_exporter": "python",
   "pygments_lexer": "ipython3",
   "version": "3.10.13"
  }
 },
 "nbformat": 4,
 "nbformat_minor": 4
}
